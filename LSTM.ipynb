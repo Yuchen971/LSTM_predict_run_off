{
  "nbformat": 4,
  "nbformat_minor": 0,
  "metadata": {
    "colab": {
      "name": "LSTMreal.ipynb",
      "provenance": [],
      "collapsed_sections": []
    },
    "kernelspec": {
      "name": "python3",
      "display_name": "Python 3"
    },
    "accelerator": "TPU"
  },
  "cells": [
    {
      "cell_type": "markdown",
      "metadata": {
        "id": "fIwXj8ixGsnu",
        "colab_type": "text"
      },
      "source": [
        "## use the data of PET and and rainfall to predict the Q"
      ]
    },
    {
      "cell_type": "markdown",
      "metadata": {
        "id": "w83DjwkHG1Bj",
        "colab_type": "text"
      },
      "source": [
        "#preprocessing\n"
      ]
    },
    {
      "cell_type": "code",
      "metadata": {
        "id": "mJHBbGy5Cp3w",
        "colab_type": "code",
        "outputId": "30533c63-9698-4324-abc4-660245ceb78c",
        "colab": {
          "base_uri": "https://localhost:8080/",
          "height": 34
        }
      },
      "source": [
        "#!/usr/bin/env python\n",
        "# coding: utf-8\n",
        "\n",
        "\n",
        "from tensorflow.keras import Sequential, optimizers, metrics\n",
        "import pandas as pd\n",
        "import numpy as np\n",
        "import tensorflow as tf\n",
        "import matplotlib.pyplot as plt\n",
        "from sklearn.preprocessing import StandardScaler\n",
        "from sklearn.preprocessing import MinMaxScaler\n",
        "\n",
        "\n",
        "\n",
        "df = pd.read_csv('/content/SILO3.csv')\n",
        "df = df.interpolate()\n",
        "df['Date'] = pd.to_datetime(df['Date'], format='%Y%m%d')\n",
        "# print(df.head(), df.shape)\n",
        "df.set_index('Date', drop=True, inplace=True)\n",
        "\n",
        "df.shape\n"
      ],
      "execution_count": 0,
      "outputs": [
        {
          "output_type": "execute_result",
          "data": {
            "text/plain": [
              "(18929, 17)"
            ]
          },
          "metadata": {
            "tags": []
          },
          "execution_count": 1
        }
      ]
    },
    {
      "cell_type": "code",
      "metadata": {
        "id": "ePYiHHDdDJfL",
        "colab_type": "code",
        "colab": {}
      },
      "source": [
        "\n",
        "TIME_STEPS = 30\n",
        "\n",
        "\n",
        "def preprocess(data, ratio=0.8):\n",
        "    num_samples = data.shape[0] - TIME_STEPS + 1  # 18129  - TIME_STEPS + 1\n",
        "    train_size = int(num_samples * ratio)  # 80%\n",
        "    columns = int(data.shape[1])  # 17\n",
        "    x_train, x_test = [], []\n",
        "    y_train, y_test = [], []\n",
        "\n",
        "    all_data = np.array(data.iloc[:, :])\n",
        "\n",
        "    # normalize the data\n",
        "    std_x = StandardScaler()\n",
        "    std_x.fit(all_data[:train_size + TIME_STEPS - 1, :-1])\n",
        "    all_data[:, :-1] = std_x.transform(all_data[:, :-1])\n",
        "\n",
        "    for i in range(num_samples):\n",
        "        sample = np.array(all_data[i:i+TIME_STEPS, :])  # [TIME_STEPS, 17] tensor\n",
        "        y = sample[-1, -1]\n",
        "        sample[-1, -1] = -1.0  # to prevent data leaking\n",
        "\n",
        "        if i < train_size:\n",
        "            x_train.append(sample)\n",
        "            y_train.append(y)\n",
        "        else:\n",
        "            x_test.append(sample)\n",
        "            y_test.append(y)\n",
        "\n",
        "    x_train = np.array(x_train)\n",
        "    y_train = np.array(y_train)\n",
        "    x_test = np.array(x_test)\n",
        "    y_test = np.array(y_test)\n",
        "    return x_train, y_train, x_test, y_test, num_samples, train_size, columns\n",
        "\n",
        "\n",
        "x_train, y_train, x_test, y_test, dims, index, columns = preprocess(df)\n",
        "\n",
        "\n",
        "def info(arr):\n",
        "    print(arr.mean(), arr.std(), np.median(arr), arr.max(), arr.min())\n",
        "\n",
        "\n",
        "print(x_train.shape, y_train.shape, x_test.shape, y_test.shape)\n",
        "\n",
        "# x_train = x_train.reshape(index, columns - 1, 1)\n",
        "# y_train = y_train.reshape(-1, )\n",
        "# x_test = x_test.reshape(dims - index, columns - 1, 1)\n",
        "# y_test = y_test.reshape(-1, )\n",
        "print(x_train.shape, y_train.shape, x_test.shape, y_test.shape)\n",
        "\n",
        "#print(x_train)"
      ],
      "execution_count": 0,
      "outputs": []
    },
    {
      "cell_type": "markdown",
      "metadata": {
        "id": "HfzZUUqKGoRJ",
        "colab_type": "text"
      },
      "source": [
        "##build the model"
      ]
    },
    {
      "cell_type": "code",
      "metadata": {
        "id": "LIcdJ8iqDTsv",
        "colab_type": "code",
        "outputId": "0525bc8a-54c8-4e79-cef1-a39d80fd61a4",
        "colab": {
          "base_uri": "https://localhost:8080/",
          "height": 1000
        }
      },
      "source": [
        "\n",
        "UNITS = 64\n",
        "DROPOUT = 0.0\n",
        "LR = 0.01\n",
        "EPOCHES = 50\n",
        "BATCH_SIZE = 2000\n",
        "\n",
        "\n",
        "model = Sequential()\n",
        "\n",
        "model.add(tf.keras.layers.LSTM(\n",
        "    units=UNITS,\n",
        "    dropout=DROPOUT,\n",
        "    recurrent_dropout=DROPOUT,\n",
        "    input_shape=(x_train.shape[1], x_train.shape[2]),\n",
        "    return_sequences=True\n",
        "))\n",
        "\n",
        "\n",
        "model.add(tf.keras.layers.LSTM(\n",
        "    units=UNITS,\n",
        "    dropout=DROPOUT,\n",
        "    recurrent_dropout=DROPOUT,\n",
        "    return_sequences=False\n",
        "))\n",
        "\n",
        "# 1 outcome\n",
        "model.add(tf.keras.layers.Dense(1))\n",
        "\n",
        "# R^2\n",
        "from keras import backend as K\n",
        "\n",
        "\n",
        "def R2(y_true, y_pred):\n",
        "    SS_res = K.sum(K.square(y_true - y_pred))\n",
        "    SS_tot = K.sum(K.square(y_true - K.mean(y_true)))\n",
        "    return (1 - SS_res / (SS_tot + K.epsilon()))\n",
        "\n",
        "\n",
        "model.compile(\n",
        "    optimizer=optimizers.Adam(lr=LR),\n",
        "    loss='mse',\n",
        "    metrics=[R2]\n",
        ")\n",
        "\n",
        "\n",
        "#tensorboard_callback = tf.keras.callbacks.TensorBoard('./Graph', histogram_freq= 1)\n",
        "\n",
        "History = model.fit(\n",
        "    x_train,\n",
        "    y_train,\n",
        "    batch_size=BATCH_SIZE,\n",
        "    epochs=EPOCHES,\n",
        "    validation_data=(x_test, y_test),\n",
        "    shuffle=True,\n",
        "    #callbacks = [tensorboard_callback]\n",
        ")\n",
        "\n",
        "#prediction = model.predict(x_test)\n",
        "\n",
        "#plt.plot(y_test[:], label='y_test')\n",
        "#plt.plot(prediction[:], label='Forecast')\n",
        "prediction = model.predict(x_train)\n",
        "\n",
        "plt.plot(y_train[:], label='y_test')\n",
        "plt.plot(prediction[:], label='Forecast')\n",
        "\n",
        "\n",
        "plt.legend()\n",
        "plt.show()\n",
        "\n"
      ],
      "execution_count": 0,
      "outputs": [
        {
          "output_type": "stream",
          "text": [
            "Train on 15120 samples, validate on 3780 samples\n",
            "Epoch 1/50\n",
            "15120/15120 [==============================] - 13s 884us/sample - loss: 0.5544 - R2: -3.0092 - val_loss: 0.5659 - val_R2: -0.7353\n",
            "Epoch 2/50\n",
            "15120/15120 [==============================] - 9s 563us/sample - loss: 0.1444 - R2: -0.0130 - val_loss: 0.8094 - val_R2: -1.4880\n",
            "Epoch 3/50\n",
            "15120/15120 [==============================] - 9s 566us/sample - loss: 0.1133 - R2: 0.1954 - val_loss: 0.8292 - val_R2: -1.5388\n",
            "Epoch 4/50\n",
            "15120/15120 [==============================] - 8s 534us/sample - loss: 0.1036 - R2: 0.2633 - val_loss: 0.6700 - val_R2: -1.0542\n",
            "Epoch 5/50\n",
            "15120/15120 [==============================] - 8s 549us/sample - loss: 0.0930 - R2: 0.3399 - val_loss: 0.7008 - val_R2: -1.1485\n",
            "Epoch 6/50\n",
            "15120/15120 [==============================] - 8s 538us/sample - loss: 0.0831 - R2: 0.4125 - val_loss: 0.6337 - val_R2: -0.9405\n",
            "Epoch 7/50\n",
            "15120/15120 [==============================] - 8s 561us/sample - loss: 0.0729 - R2: 0.4874 - val_loss: 0.5533 - val_R2: -0.6972\n",
            "Epoch 8/50\n",
            "15120/15120 [==============================] - 8s 546us/sample - loss: 0.0621 - R2: 0.5604 - val_loss: 0.3818 - val_R2: -0.1702\n",
            "Epoch 9/50\n",
            "15120/15120 [==============================] - 8s 553us/sample - loss: 0.0553 - R2: 0.6046 - val_loss: 0.3174 - val_R2: 0.0280\n",
            "Epoch 10/50\n",
            "15120/15120 [==============================] - 8s 556us/sample - loss: 0.0532 - R2: 0.6269 - val_loss: 0.3079 - val_R2: 0.0522\n",
            "Epoch 11/50\n",
            "15120/15120 [==============================] - 8s 558us/sample - loss: 0.0479 - R2: 0.6690 - val_loss: 0.3228 - val_R2: 0.0105\n",
            "Epoch 12/50\n",
            "15120/15120 [==============================] - 9s 578us/sample - loss: 0.0442 - R2: 0.6871 - val_loss: 0.2545 - val_R2: 0.2197\n",
            "Epoch 13/50\n",
            "15120/15120 [==============================] - 8s 553us/sample - loss: 0.0418 - R2: 0.7031 - val_loss: 0.2106 - val_R2: 0.3536\n",
            "Epoch 14/50\n",
            "15120/15120 [==============================] - 8s 523us/sample - loss: 0.0406 - R2: 0.7156 - val_loss: 0.2529 - val_R2: 0.2244\n",
            "Epoch 15/50\n",
            "15120/15120 [==============================] - 8s 542us/sample - loss: 0.0381 - R2: 0.7316 - val_loss: 0.1817 - val_R2: 0.4434\n",
            "Epoch 16/50\n",
            "15120/15120 [==============================] - 8s 539us/sample - loss: 0.0376 - R2: 0.7325 - val_loss: 0.2033 - val_R2: 0.3764\n",
            "Epoch 17/50\n",
            "15120/15120 [==============================] - 8s 547us/sample - loss: 0.0368 - R2: 0.7427 - val_loss: 0.2018 - val_R2: 0.3811\n",
            "Epoch 18/50\n",
            "15120/15120 [==============================] - 8s 561us/sample - loss: 0.0352 - R2: 0.7512 - val_loss: 0.1600 - val_R2: 0.5113\n",
            "Epoch 19/50\n",
            "15120/15120 [==============================] - 8s 548us/sample - loss: 0.0337 - R2: 0.7599 - val_loss: 0.1618 - val_R2: 0.5052\n",
            "Epoch 20/50\n",
            "15120/15120 [==============================] - 9s 566us/sample - loss: 0.0335 - R2: 0.7700 - val_loss: 0.1605 - val_R2: 0.5103\n",
            "Epoch 21/50\n",
            "15120/15120 [==============================] - 8s 537us/sample - loss: 0.0323 - R2: 0.7687 - val_loss: 0.1459 - val_R2: 0.5533\n",
            "Epoch 22/50\n",
            "15120/15120 [==============================] - 8s 556us/sample - loss: 0.0311 - R2: 0.7806 - val_loss: 0.1380 - val_R2: 0.5802\n",
            "Epoch 23/50\n",
            "15120/15120 [==============================] - 9s 574us/sample - loss: 0.0303 - R2: 0.7821 - val_loss: 0.1449 - val_R2: 0.5534\n",
            "Epoch 24/50\n",
            "15120/15120 [==============================] - 8s 557us/sample - loss: 0.0297 - R2: 0.7912 - val_loss: 0.1088 - val_R2: 0.6665\n",
            "Epoch 25/50\n",
            "15120/15120 [==============================] - 8s 539us/sample - loss: 0.0291 - R2: 0.7908 - val_loss: 0.1185 - val_R2: 0.6392\n",
            "Epoch 26/50\n",
            "15120/15120 [==============================] - 8s 546us/sample - loss: 0.0290 - R2: 0.7852 - val_loss: 0.1437 - val_R2: 0.5604\n",
            "Epoch 27/50\n",
            "15120/15120 [==============================] - 9s 577us/sample - loss: 0.0309 - R2: 0.7837 - val_loss: 0.1363 - val_R2: 0.5823\n",
            "Epoch 28/50\n",
            "15120/15120 [==============================] - 8s 544us/sample - loss: 0.0294 - R2: 0.7876 - val_loss: 0.1441 - val_R2: 0.5573\n",
            "Epoch 29/50\n",
            "15120/15120 [==============================] - 9s 571us/sample - loss: 0.0288 - R2: 0.7985 - val_loss: 0.1306 - val_R2: 0.5998\n",
            "Epoch 30/50\n",
            "15120/15120 [==============================] - 8s 552us/sample - loss: 0.0277 - R2: 0.8108 - val_loss: 0.1214 - val_R2: 0.6259\n",
            "Epoch 31/50\n",
            "15120/15120 [==============================] - 8s 536us/sample - loss: 0.0262 - R2: 0.8130 - val_loss: 0.1401 - val_R2: 0.5708\n",
            "Epoch 32/50\n",
            "15120/15120 [==============================] - 8s 550us/sample - loss: 0.0266 - R2: 0.8091 - val_loss: 0.1143 - val_R2: 0.6514\n",
            "Epoch 33/50\n",
            "15120/15120 [==============================] - 8s 553us/sample - loss: 0.0251 - R2: 0.8210 - val_loss: 0.0961 - val_R2: 0.7096\n",
            "Epoch 34/50\n",
            "15120/15120 [==============================] - 9s 564us/sample - loss: 0.0244 - R2: 0.8252 - val_loss: 0.1199 - val_R2: 0.6341\n",
            "Epoch 35/50\n",
            "15120/15120 [==============================] - 8s 554us/sample - loss: 0.0225 - R2: 0.8413 - val_loss: 0.1273 - val_R2: 0.6107\n",
            "Epoch 36/50\n",
            "15120/15120 [==============================] - 8s 531us/sample - loss: 0.0240 - R2: 0.8316 - val_loss: 0.1190 - val_R2: 0.6349\n",
            "Epoch 37/50\n",
            "15120/15120 [==============================] - 9s 567us/sample - loss: 0.0247 - R2: 0.8250 - val_loss: 0.0918 - val_R2: 0.7194\n",
            "Epoch 38/50\n",
            "15120/15120 [==============================] - 9s 578us/sample - loss: 0.0256 - R2: 0.8140 - val_loss: 0.1455 - val_R2: 0.5544\n",
            "Epoch 39/50\n",
            "15120/15120 [==============================] - 9s 616us/sample - loss: 0.0223 - R2: 0.8453 - val_loss: 0.0918 - val_R2: 0.7181\n",
            "Epoch 40/50\n",
            "15120/15120 [==============================] - 8s 560us/sample - loss: 0.0208 - R2: 0.8519 - val_loss: 0.1129 - val_R2: 0.6530\n",
            "Epoch 41/50\n",
            "15120/15120 [==============================] - 8s 541us/sample - loss: 0.0200 - R2: 0.8490 - val_loss: 0.0973 - val_R2: 0.7045\n",
            "Epoch 42/50\n",
            "15120/15120 [==============================] - 8s 521us/sample - loss: 0.0205 - R2: 0.8534 - val_loss: 0.1181 - val_R2: 0.6354\n",
            "Epoch 43/50\n",
            "15120/15120 [==============================] - 8s 556us/sample - loss: 0.0205 - R2: 0.8551 - val_loss: 0.0892 - val_R2: 0.7277\n",
            "Epoch 44/50\n",
            "15120/15120 [==============================] - 9s 567us/sample - loss: 0.0188 - R2: 0.8601 - val_loss: 0.1107 - val_R2: 0.6605\n",
            "Epoch 45/50\n",
            "15120/15120 [==============================] - 8s 562us/sample - loss: 0.0172 - R2: 0.8713 - val_loss: 0.1146 - val_R2: 0.6488\n",
            "Epoch 46/50\n",
            "15120/15120 [==============================] - 9s 570us/sample - loss: 0.0171 - R2: 0.8782 - val_loss: 0.0992 - val_R2: 0.6993\n",
            "Epoch 47/50\n",
            "15120/15120 [==============================] - 8s 546us/sample - loss: 0.0161 - R2: 0.8856 - val_loss: 0.1076 - val_R2: 0.6706\n",
            "Epoch 48/50\n",
            "15120/15120 [==============================] - 9s 583us/sample - loss: 0.0150 - R2: 0.8892 - val_loss: 0.0899 - val_R2: 0.7245\n",
            "Epoch 49/50\n",
            "15120/15120 [==============================] - 8s 542us/sample - loss: 0.0158 - R2: 0.8882 - val_loss: 0.0934 - val_R2: 0.7149\n",
            "Epoch 50/50\n",
            "15120/15120 [==============================] - 9s 575us/sample - loss: 0.0157 - R2: 0.8859 - val_loss: 0.0738 - val_R2: 0.7752\n"
          ],
          "name": "stdout"
        },
        {
          "output_type": "display_data",
          "data": {
            "image/png": "[encoded data removed]",
            "text/plain": [
              "<Figure size 432x288 with 1 Axes>"
            ]
          },
          "metadata": {
            "tags": []
          }
        }
      ]
    },
    {
      "cell_type": "code",
      "metadata": {
        "id": "S7JWpj7Pkw9o",
        "colab_type": "code",
        "outputId": "479919d4-4a53-4406-a57e-4e1d3fec6e7a",
        "colab": {
          "base_uri": "https://localhost:8080/",
          "height": 282
        }
      },
      "source": [
        "prediction = model.predict(x_test)\n",
        "\n",
        "plt.plot(y_test, label='y_test')\n",
        "plt.plot(prediction, label='Forecast')"
      ],
      "execution_count": 0,
      "outputs": [
        {
          "output_type": "execute_result",
          "data": {
            "text/plain": [
              "[<matplotlib.lines.Line2D at 0x7fdd4f723f28>]"
            ]
          },
          "metadata": {
            "tags": []
          },
          "execution_count": 24
        },
        {
          "output_type": "display_data",
          "data": {
            "image/png": "[encoded data removed]",
            "text/plain": [
              "<Figure size 432x288 with 1 Axes>"
            ]
          },
          "metadata": {
            "tags": []
          }
        }
      ]
    }
  ]
}